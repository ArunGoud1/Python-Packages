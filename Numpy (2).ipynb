{
 "cells": [
  {
   "cell_type": "code",
   "execution_count": 1,
   "id": "9f941abf-a782-4dc2-b809-40e66b8c07a6",
   "metadata": {},
   "outputs": [
    {
     "name": "stdout",
     "output_type": "stream",
     "text": [
      "Requirement already satisfied: numpy in c:\\users\\arung\\anaconda3\\lib\\site-packages (1.26.4)\n"
     ]
    }
   ],
   "source": [
    "!pip install numpy\n"
   ]
  },
  {
   "cell_type": "code",
   "execution_count": 3,
   "id": "9e1483ba-684e-47bc-b045-088f720ef77a",
   "metadata": {},
   "outputs": [],
   "source": [
    "import numpy as np"
   ]
  },
  {
   "cell_type": "code",
   "execution_count": null,
   "id": "ca99b343-593e-46f8-9e95-b2cc85ac0ceb",
   "metadata": {},
   "outputs": [],
   "source": [
    "\n"
   ]
  },
  {
   "cell_type": "code",
   "execution_count": null,
   "id": "10d85c3a-1957-4ef0-8cf2-e74958b91505",
   "metadata": {},
   "outputs": [],
   "source": []
  },
  {
   "cell_type": "markdown",
   "id": "f9f2431d-f09a-48bc-9b0c-66e1df021543",
   "metadata": {},
   "source": [
    "## Numpy :"
   ]
  },
  {
   "cell_type": "markdown",
   "id": "63f49094-6670-486a-b2ed-6d69aeddca5d",
   "metadata": {},
   "source": [
    "- It is a Python library that provides a multidimensional array.\n",
    "- NumPy is an open source mathematical and scientific computing library for Python programming tasks."
   ]
  },
  {
   "cell_type": "code",
   "execution_count": null,
   "id": "4e4fdf30-4fa5-4042-a043-37e27fb44ed4",
   "metadata": {},
   "outputs": [],
   "source": []
  },
  {
   "cell_type": "code",
   "execution_count": 8,
   "id": "99963664-8180-4530-b6d7-f9b032b8afaa",
   "metadata": {},
   "outputs": [
    {
     "name": "stdout",
     "output_type": "stream",
     "text": [
      "Requirement already satisfied: numpy in c:\\users\\arung\\anaconda3\\lib\\site-packages (1.26.4)\n"
     ]
    }
   ],
   "source": [
    "## To access the numpy libraries we should install it.\n",
    "\n",
    "!pip install numpy"
   ]
  },
  {
   "cell_type": "code",
   "execution_count": 10,
   "id": "3c0dde84-1bb8-4db2-bf4e-d21e3d083cea",
   "metadata": {},
   "outputs": [],
   "source": [
    "## to acess numpy import it\n",
    "\n",
    "import numpy as np"
   ]
  },
  {
   "cell_type": "code",
   "execution_count": 12,
   "id": "989b8681-398b-40be-8a65-d0be30f66570",
   "metadata": {},
   "outputs": [],
   "source": [
    "A = np.array([1,2,3])"
   ]
  },
  {
   "cell_type": "code",
   "execution_count": 14,
   "id": "d896de8d-2b55-44b2-952d-cfdf4334969f",
   "metadata": {},
   "outputs": [
    {
     "name": "stdout",
     "output_type": "stream",
     "text": [
      "[1 2 3]\n"
     ]
    }
   ],
   "source": [
    "print(A)"
   ]
  },
  {
   "cell_type": "code",
   "execution_count": null,
   "id": "a4077ead-bfb7-4725-ba7a-f3ffc3b8338a",
   "metadata": {},
   "outputs": [],
   "source": []
  },
  {
   "cell_type": "markdown",
   "id": "dac8b838-e9c3-4573-819c-e4c675742332",
   "metadata": {},
   "source": [
    "- Numpy is Classfied into 3 types :\n",
    "\n",
    " \n",
    "    1) One Dimensional Array.\n",
    "    2) Two Dimenssional Array.\n",
    "    3) Three Dimenssional Array."
   ]
  },
  {
   "cell_type": "code",
   "execution_count": null,
   "id": "078bcb23-ec74-484a-808a-43f0f9544384",
   "metadata": {},
   "outputs": [],
   "source": []
  },
  {
   "cell_type": "markdown",
   "id": "d6487368-1c84-4979-901c-a688147e192f",
   "metadata": {},
   "source": [
    "## One Dimenssional Array :"
   ]
  },
  {
   "cell_type": "markdown",
   "id": "191b3199-5cbd-44e3-be01-0dc0a4676061",
   "metadata": {},
   "source": [
    "- The One-dimensional array contains elements only in one dimension.\n",
    "- One Dimenssional Array deals with only rows.\n",
    "- A One dimensional array, also known as a 1D array,"
   ]
  },
  {
   "cell_type": "code",
   "execution_count": 27,
   "id": "5ecf5cb7-457d-491d-8f36-f9d04e38b59b",
   "metadata": {},
   "outputs": [],
   "source": [
    "A = np.array([7,11])"
   ]
  },
  {
   "cell_type": "code",
   "execution_count": 29,
   "id": "e0712bb8-3440-477b-9bab-7fa1e4e2bfd3",
   "metadata": {},
   "outputs": [
    {
     "name": "stdout",
     "output_type": "stream",
     "text": [
      "[ 7 11]\n"
     ]
    }
   ],
   "source": [
    "print(A)"
   ]
  },
  {
   "cell_type": "code",
   "execution_count": 33,
   "id": "fcc10d18-8f64-41ad-828e-075b3ee4e7d0",
   "metadata": {},
   "outputs": [],
   "source": [
    "h = np.array([100,108])"
   ]
  },
  {
   "cell_type": "code",
   "execution_count": 35,
   "id": "a0071324-415a-4136-9ac1-636f41ad0841",
   "metadata": {},
   "outputs": [
    {
     "name": "stdout",
     "output_type": "stream",
     "text": [
      "[100 108]\n"
     ]
    }
   ],
   "source": [
    "print(h)"
   ]
  },
  {
   "cell_type": "code",
   "execution_count": null,
   "id": "d7a90849-21ae-46af-b5f5-58e2f5cbfcec",
   "metadata": {},
   "outputs": [],
   "source": []
  },
  {
   "cell_type": "markdown",
   "id": "d8ed75e8-d3f4-488f-8e8b-963e794b9269",
   "metadata": {},
   "source": [
    "## Two Dimenssional Array :"
   ]
  },
  {
   "cell_type": "markdown",
   "id": "a8750b20-ed3c-4260-b5ad-0480b8de70d1",
   "metadata": {},
   "source": [
    "- A two-dimensional array, also known as a 2D array.\n",
    "- Two Dimenssional Array deals with  rows and Columns."
   ]
  },
  {
   "cell_type": "code",
   "execution_count": null,
   "id": "dae00f72-68eb-4f9c-bcb3-9eb1d599c028",
   "metadata": {},
   "outputs": [],
   "source": []
  },
  {
   "cell_type": "code",
   "execution_count": 42,
   "id": "2ac25528-2086-4a9b-a095-6fa9daa18e3b",
   "metadata": {},
   "outputs": [],
   "source": [
    "a = np.array([[1,2,3],[4,5,6]])"
   ]
  },
  {
   "cell_type": "code",
   "execution_count": 44,
   "id": "9646ce9f-bbd1-4349-9f4f-9a4261d13758",
   "metadata": {},
   "outputs": [
    {
     "name": "stdout",
     "output_type": "stream",
     "text": [
      "[[1 2 3]\n",
      " [4 5 6]]\n"
     ]
    }
   ],
   "source": [
    "print(a)"
   ]
  },
  {
   "cell_type": "code",
   "execution_count": 64,
   "id": "6718462c-048a-403c-b923-6a77cb1d586b",
   "metadata": {},
   "outputs": [],
   "source": [
    "b = np.array([[3,2,1],[6,5,4]])"
   ]
  },
  {
   "cell_type": "code",
   "execution_count": 66,
   "id": "99b28162-33ea-462f-ad94-a688fe164b6e",
   "metadata": {},
   "outputs": [
    {
     "name": "stdout",
     "output_type": "stream",
     "text": [
      "[[3 2 1]\n",
      " [6 5 4]]\n"
     ]
    }
   ],
   "source": [
    "print(b)"
   ]
  },
  {
   "cell_type": "code",
   "execution_count": null,
   "id": "7a885382-a228-4826-8631-678114adf017",
   "metadata": {},
   "outputs": [],
   "source": []
  },
  {
   "cell_type": "code",
   "execution_count": null,
   "id": "0182759a-f491-48a0-a4fd-f22beffd13de",
   "metadata": {},
   "outputs": [],
   "source": []
  },
  {
   "cell_type": "markdown",
   "id": "50c6f197-32d2-4c75-ba71-bb0625ecbf4d",
   "metadata": {},
   "source": [
    "## Three Dimenssional Array :"
   ]
  },
  {
   "cell_type": "markdown",
   "id": "3e899b88-fc22-45a0-87f0-8d1cf241728a",
   "metadata": {},
   "source": [
    "- A three-dimensional array, also known as a 3D array.\n",
    "- And consists of 3d rows,columns and shapes."
   ]
  },
  {
   "cell_type": "code",
   "execution_count": null,
   "id": "bcb86afe-f5ad-4b5c-aa65-da3e8ccd3605",
   "metadata": {},
   "outputs": [],
   "source": []
  },
  {
   "cell_type": "code",
   "execution_count": 68,
   "id": "cf28f801-bd16-4167-8b40-434d4a23f697",
   "metadata": {},
   "outputs": [],
   "source": [
    "d = np.array([[[1,1,1],[2,2,2],[3,3,3]]]) "
   ]
  },
  {
   "cell_type": "code",
   "execution_count": 70,
   "id": "777417b7-1355-4cf4-b159-4cc141bd9986",
   "metadata": {},
   "outputs": [
    {
     "name": "stdout",
     "output_type": "stream",
     "text": [
      "[[[1 1 1]\n",
      "  [2 2 2]\n",
      "  [3 3 3]]]\n"
     ]
    }
   ],
   "source": [
    "print(d)"
   ]
  },
  {
   "cell_type": "code",
   "execution_count": null,
   "id": "49f13bbe-5fe1-4fcb-a664-e5de7147b930",
   "metadata": {},
   "outputs": [],
   "source": []
  },
  {
   "cell_type": "code",
   "execution_count": null,
   "id": "c2c15eea-efac-4075-ad37-b5ef8087f566",
   "metadata": {},
   "outputs": [],
   "source": []
  },
  {
   "cell_type": "markdown",
   "id": "fdb44e00-23b7-431a-926c-cf58a028d088",
   "metadata": {},
   "source": [
    "## Placeholder :"
   ]
  },
  {
   "cell_type": "markdown",
   "id": "7efb1977-e985-482f-ac10-ef8f2ad198a6",
   "metadata": {},
   "source": [
    "- Placeholder.\n",
    "   1) Zeros\n",
    "   2) Ones "
   ]
  },
  {
   "cell_type": "markdown",
   "id": "ee8a803f-13b9-4ed4-bb12-af10f8882bc5",
   "metadata": {},
   "source": [
    "## * Zeros :"
   ]
  },
  {
   "cell_type": "markdown",
   "id": "98abba94-617e-4e6c-ad57-e348d60ed854",
   "metadata": {},
   "source": [
    "- This function is used to replace the matrix values to zeros because it is called as \"Zeros\"."
   ]
  },
  {
   "cell_type": "code",
   "execution_count": 97,
   "id": "bc32440c-260b-4077-996f-6e04962ab4d7",
   "metadata": {},
   "outputs": [],
   "source": [
    "A = np.zeros([5,2,3])"
   ]
  },
  {
   "cell_type": "code",
   "execution_count": 99,
   "id": "a7565b10-24cd-4c16-998a-4f630ca3088e",
   "metadata": {},
   "outputs": [
    {
     "name": "stdout",
     "output_type": "stream",
     "text": [
      "[[[0. 0. 0.]\n",
      "  [0. 0. 0.]]\n",
      "\n",
      " [[0. 0. 0.]\n",
      "  [0. 0. 0.]]\n",
      "\n",
      " [[0. 0. 0.]\n",
      "  [0. 0. 0.]]\n",
      "\n",
      " [[0. 0. 0.]\n",
      "  [0. 0. 0.]]\n",
      "\n",
      " [[0. 0. 0.]\n",
      "  [0. 0. 0.]]]\n"
     ]
    }
   ],
   "source": [
    "print(A)"
   ]
  },
  {
   "cell_type": "code",
   "execution_count": 113,
   "id": "bb03466d-d36b-4732-bb8c-67ab9fe297e6",
   "metadata": {},
   "outputs": [],
   "source": [
    "b= np.zeros([2,5,9])"
   ]
  },
  {
   "cell_type": "code",
   "execution_count": 117,
   "id": "7c581f4d-14ce-43f7-9b0e-136ffc67de73",
   "metadata": {},
   "outputs": [
    {
     "name": "stdout",
     "output_type": "stream",
     "text": [
      "[[[0. 0. 0. 0. 0. 0. 0. 0. 0.]\n",
      "  [0. 0. 0. 0. 0. 0. 0. 0. 0.]\n",
      "  [0. 0. 0. 0. 0. 0. 0. 0. 0.]\n",
      "  [0. 0. 0. 0. 0. 0. 0. 0. 0.]\n",
      "  [0. 0. 0. 0. 0. 0. 0. 0. 0.]]\n",
      "\n",
      " [[0. 0. 0. 0. 0. 0. 0. 0. 0.]\n",
      "  [0. 0. 0. 0. 0. 0. 0. 0. 0.]\n",
      "  [0. 0. 0. 0. 0. 0. 0. 0. 0.]\n",
      "  [0. 0. 0. 0. 0. 0. 0. 0. 0.]\n",
      "  [0. 0. 0. 0. 0. 0. 0. 0. 0.]]]\n"
     ]
    }
   ],
   "source": [
    "print(b)"
   ]
  },
  {
   "cell_type": "code",
   "execution_count": null,
   "id": "57c412a1-dc64-449e-8611-546d30c50f5c",
   "metadata": {},
   "outputs": [],
   "source": []
  },
  {
   "cell_type": "code",
   "execution_count": null,
   "id": "3f419f47-98d0-490e-92b4-d6505a32e669",
   "metadata": {},
   "outputs": [],
   "source": []
  },
  {
   "cell_type": "code",
   "execution_count": null,
   "id": "76cec14f-abac-4a4e-a7a7-d02d8b956086",
   "metadata": {},
   "outputs": [],
   "source": []
  },
  {
   "cell_type": "markdown",
   "id": "71c03f91-1a59-49a8-9fe0-82af5af3a5a0",
   "metadata": {},
   "source": [
    "## * Ones :"
   ]
  },
  {
   "cell_type": "code",
   "execution_count": 103,
   "id": "fba71e9f-e7f0-4fc5-8a90-bbed58b3991c",
   "metadata": {},
   "outputs": [],
   "source": [
    "A= np.ones([5,2,3])"
   ]
  },
  {
   "cell_type": "code",
   "execution_count": 105,
   "id": "db6e0295-08ba-4b06-afd7-4c4ee7401306",
   "metadata": {},
   "outputs": [
    {
     "name": "stdout",
     "output_type": "stream",
     "text": [
      "[[[1. 1. 1.]\n",
      "  [1. 1. 1.]]\n",
      "\n",
      " [[1. 1. 1.]\n",
      "  [1. 1. 1.]]\n",
      "\n",
      " [[1. 1. 1.]\n",
      "  [1. 1. 1.]]\n",
      "\n",
      " [[1. 1. 1.]\n",
      "  [1. 1. 1.]]\n",
      "\n",
      " [[1. 1. 1.]\n",
      "  [1. 1. 1.]]]\n"
     ]
    }
   ],
   "source": [
    "print(A)"
   ]
  },
  {
   "cell_type": "code",
   "execution_count": null,
   "id": "4a74e4b1-8b28-4bee-bbb3-96bf7c1bd6eb",
   "metadata": {},
   "outputs": [],
   "source": []
  },
  {
   "cell_type": "code",
   "execution_count": 127,
   "id": "9c5822f3-ef8e-4e33-a078-b956f14a513a",
   "metadata": {},
   "outputs": [],
   "source": [
    "s = np.ones([2,5,5])"
   ]
  },
  {
   "cell_type": "code",
   "execution_count": 129,
   "id": "005951e3-fbd4-4271-9ad4-ae7c83974911",
   "metadata": {},
   "outputs": [
    {
     "name": "stdout",
     "output_type": "stream",
     "text": [
      "[[[1. 1. 1. 1. 1.]\n",
      "  [1. 1. 1. 1. 1.]\n",
      "  [1. 1. 1. 1. 1.]\n",
      "  [1. 1. 1. 1. 1.]\n",
      "  [1. 1. 1. 1. 1.]]\n",
      "\n",
      " [[1. 1. 1. 1. 1.]\n",
      "  [1. 1. 1. 1. 1.]\n",
      "  [1. 1. 1. 1. 1.]\n",
      "  [1. 1. 1. 1. 1.]\n",
      "  [1. 1. 1. 1. 1.]]]\n"
     ]
    }
   ],
   "source": [
    "print(s)"
   ]
  },
  {
   "cell_type": "code",
   "execution_count": null,
   "id": "7225a6bc-9fed-4a7f-9f17-162c96fef991",
   "metadata": {},
   "outputs": [],
   "source": []
  },
  {
   "cell_type": "code",
   "execution_count": null,
   "id": "3d7b82c0-1e5b-42a5-a7a5-fc863cabc5e4",
   "metadata": {},
   "outputs": [],
   "source": []
  },
  {
   "cell_type": "markdown",
   "id": "1fff1267-ff6d-419f-a8a9-9b74ddbdf112",
   "metadata": {},
   "source": [
    "##  Create Evenly Spaced Values :"
   ]
  },
  {
   "cell_type": "code",
   "execution_count": null,
   "id": "f2c6319c-438b-4e7e-8cb3-9396288b164e",
   "metadata": {},
   "outputs": [],
   "source": []
  },
  {
   "cell_type": "code",
   "execution_count": 155,
   "id": "b3665e53-73ee-436d-badf-9cb781ec2988",
   "metadata": {},
   "outputs": [],
   "source": [
    "q= np.arange(11,50,4)"
   ]
  },
  {
   "cell_type": "code",
   "execution_count": 157,
   "id": "29a3f96c-072b-4e3a-90ae-b4315198efe0",
   "metadata": {},
   "outputs": [
    {
     "name": "stdout",
     "output_type": "stream",
     "text": [
      "[11 15 19 23 27 31 35 39 43 47]\n"
     ]
    }
   ],
   "source": [
    "print(q)"
   ]
  },
  {
   "cell_type": "code",
   "execution_count": null,
   "id": "2c0887f2-7845-4f40-b636-a03c0dd13b2c",
   "metadata": {},
   "outputs": [],
   "source": []
  },
  {
   "cell_type": "code",
   "execution_count": 159,
   "id": "d953ec48-edef-4fca-8797-0530e8a81f1b",
   "metadata": {},
   "outputs": [],
   "source": [
    "d = np.arange(100,1000,20)"
   ]
  },
  {
   "cell_type": "code",
   "execution_count": 161,
   "id": "98a2aaf9-dab2-4e81-873a-f300e1418a81",
   "metadata": {},
   "outputs": [
    {
     "name": "stdout",
     "output_type": "stream",
     "text": [
      "[100 120 140 160 180 200 220 240 260 280 300 320 340 360 380 400 420 440\n",
      " 460 480 500 520 540 560 580 600 620 640 660 680 700 720 740 760 780 800\n",
      " 820 840 860 880 900 920 940 960 980]\n"
     ]
    }
   ],
   "source": [
    "print(d)"
   ]
  },
  {
   "cell_type": "code",
   "execution_count": null,
   "id": "cc90f860-cc2d-4740-b4cb-af1e7099eb67",
   "metadata": {},
   "outputs": [],
   "source": []
  },
  {
   "cell_type": "code",
   "execution_count": 237,
   "id": "c44a5d4e-0955-4d16-ad62-036cee1cae5a",
   "metadata": {},
   "outputs": [],
   "source": [
    "y = np.arange(1,1000,142)"
   ]
  },
  {
   "cell_type": "code",
   "execution_count": 239,
   "id": "09f62f2d-c552-489f-8f2e-ecbd241e165e",
   "metadata": {},
   "outputs": [
    {
     "name": "stdout",
     "output_type": "stream",
     "text": [
      "[  1 143 285 427 569 711 853 995]\n"
     ]
    }
   ],
   "source": [
    "print(y)"
   ]
  },
  {
   "cell_type": "code",
   "execution_count": null,
   "id": "fc4abd73-51c2-4399-b945-da05e6d83297",
   "metadata": {},
   "outputs": [],
   "source": []
  },
  {
   "cell_type": "code",
   "execution_count": 214,
   "id": "359fdb11-4752-4c87-a8e2-66885cb9a823",
   "metadata": {},
   "outputs": [],
   "source": [
    "r = np.arange(10,100,5)"
   ]
  },
  {
   "cell_type": "code",
   "execution_count": 216,
   "id": "58e89c5f-7cdf-478c-b83d-8c6525b000f3",
   "metadata": {},
   "outputs": [
    {
     "name": "stdout",
     "output_type": "stream",
     "text": [
      "[10 15 20 25 30 35 40 45 50 55 60 65 70 75 80 85 90 95]\n"
     ]
    }
   ],
   "source": [
    "print(r)"
   ]
  },
  {
   "cell_type": "code",
   "execution_count": null,
   "id": "f2895548-dd4b-4ca2-bfee-e35f6a14f093",
   "metadata": {},
   "outputs": [],
   "source": []
  },
  {
   "cell_type": "code",
   "execution_count": null,
   "id": "abab523c-8f59-41d2-90b1-79af796cc475",
   "metadata": {},
   "outputs": [],
   "source": []
  },
  {
   "cell_type": "markdown",
   "id": "679120bb-550d-494f-aff5-ff88b67f0ef0",
   "metadata": {},
   "source": [
    "## evenly spaced samples:"
   ]
  },
  {
   "cell_type": "code",
   "execution_count": null,
   "id": "793d1bdf-ada3-4af0-a78d-b9d62fe7f8c7",
   "metadata": {},
   "outputs": [],
   "source": []
  },
  {
   "cell_type": "code",
   "execution_count": 254,
   "id": "4ee7a60e-da06-42a8-bcd6-309cde7a236b",
   "metadata": {},
   "outputs": [],
   "source": [
    "k = np.linspace(1,20,40)   #(starting point ,Ending point,how many times it should divide)"
   ]
  },
  {
   "cell_type": "code",
   "execution_count": 256,
   "id": "b7d2ac02-efa1-40d4-bac7-aa62663e7077",
   "metadata": {},
   "outputs": [
    {
     "name": "stdout",
     "output_type": "stream",
     "text": [
      "[ 1.          1.48717949  1.97435897  2.46153846  2.94871795  3.43589744\n",
      "  3.92307692  4.41025641  4.8974359   5.38461538  5.87179487  6.35897436\n",
      "  6.84615385  7.33333333  7.82051282  8.30769231  8.79487179  9.28205128\n",
      "  9.76923077 10.25641026 10.74358974 11.23076923 11.71794872 12.20512821\n",
      " 12.69230769 13.17948718 13.66666667 14.15384615 14.64102564 15.12820513\n",
      " 15.61538462 16.1025641  16.58974359 17.07692308 17.56410256 18.05128205\n",
      " 18.53846154 19.02564103 19.51282051 20.        ]\n"
     ]
    }
   ],
   "source": [
    "print(k)"
   ]
  },
  {
   "cell_type": "code",
   "execution_count": null,
   "id": "cf2f99e5-7de0-4f50-ac52-cf507b0d57c1",
   "metadata": {},
   "outputs": [],
   "source": []
  },
  {
   "cell_type": "code",
   "execution_count": 258,
   "id": "d30cc13c-71f5-4fb4-b41d-9e0a67b46113",
   "metadata": {},
   "outputs": [],
   "source": [
    "A = np.linspace(100,1000,10)"
   ]
  },
  {
   "cell_type": "code",
   "execution_count": 260,
   "id": "75f15e39-4795-460f-ac51-10b4c7a84fde",
   "metadata": {},
   "outputs": [
    {
     "name": "stdout",
     "output_type": "stream",
     "text": [
      "[ 100.  200.  300.  400.  500.  600.  700.  800.  900. 1000.]\n"
     ]
    }
   ],
   "source": [
    "print(A)"
   ]
  },
  {
   "cell_type": "code",
   "execution_count": null,
   "id": "a1cd0915-daf8-46d6-a8ba-2fe7a4119c9b",
   "metadata": {},
   "outputs": [],
   "source": []
  },
  {
   "cell_type": "code",
   "execution_count": 9,
   "id": "9a9a92a9-1fe8-4b2a-8a94-8dd696e87ebb",
   "metadata": {},
   "outputs": [],
   "source": [
    "arun = np.linspace(2,150,20)"
   ]
  },
  {
   "cell_type": "code",
   "execution_count": 11,
   "id": "dfb87dc3-73ee-4174-b0c2-b4a8f737e1cd",
   "metadata": {},
   "outputs": [
    {
     "name": "stdout",
     "output_type": "stream",
     "text": [
      "[  2.           9.78947368  17.57894737  25.36842105  33.15789474\n",
      "  40.94736842  48.73684211  56.52631579  64.31578947  72.10526316\n",
      "  79.89473684  87.68421053  95.47368421 103.26315789 111.05263158\n",
      " 118.84210526 126.63157895 134.42105263 142.21052632 150.        ]\n"
     ]
    }
   ],
   "source": [
    "print(arun)"
   ]
  },
  {
   "cell_type": "code",
   "execution_count": null,
   "id": "6e4f216d-bb36-47be-87b3-a4f49de52ee0",
   "metadata": {},
   "outputs": [],
   "source": []
  },
  {
   "cell_type": "code",
   "execution_count": null,
   "id": "c0f08f8e-7748-4229-a097-424cf4904161",
   "metadata": {},
   "outputs": [],
   "source": []
  },
  {
   "cell_type": "code",
   "execution_count": 3,
   "id": "22ce9ac4-60e1-411f-91c0-ffcc3795b9d3",
   "metadata": {},
   "outputs": [],
   "source": [
    "import numpy as np"
   ]
  },
  {
   "cell_type": "code",
   "execution_count": 17,
   "id": "c6b7240a-ca8c-47f6-9069-894b428ebe50",
   "metadata": {},
   "outputs": [
    {
     "name": "stdout",
     "output_type": "stream",
     "text": [
      "[10 10 10 10 10]\n",
      "Number of Dimenssions : 1\n"
     ]
    }
   ],
   "source": [
    "## creating an array using mannual number\n",
    "\n",
    "A = np.full((5),10)\n",
    "print(A)                                                # 1D\n",
    "print(\"Number of Dimenssions :\",A.ndim)"
   ]
  },
  {
   "cell_type": "code",
   "execution_count": null,
   "id": "f8648b34-e04e-47c3-a984-b0679281f48a",
   "metadata": {},
   "outputs": [],
   "source": []
  },
  {
   "cell_type": "code",
   "execution_count": 51,
   "id": "afa6c4df-fbf4-48c0-8724-f3ce87e02ad7",
   "metadata": {},
   "outputs": [
    {
     "name": "stdout",
     "output_type": "stream",
     "text": [
      "[[100 100]\n",
      " [100 100]]\n",
      "Number of Dimenssions : 2\n"
     ]
    }
   ],
   "source": [
    "A = np.full((2,2),100)\n",
    "print(A)                                                # 2D\n",
    "print(\"Number of Dimenssions :\",A.ndim)"
   ]
  },
  {
   "cell_type": "code",
   "execution_count": null,
   "id": "6792f05d-41e7-47e4-a6f8-ef0e451ff894",
   "metadata": {},
   "outputs": [],
   "source": []
  },
  {
   "cell_type": "code",
   "execution_count": 55,
   "id": "f375ec33-8523-43a5-bd4f-39d566baf2cd",
   "metadata": {},
   "outputs": [
    {
     "name": "stdout",
     "output_type": "stream",
     "text": [
      "[[[100 100 100 100 100 100]\n",
      "  [100 100 100 100 100 100]\n",
      "  [100 100 100 100 100 100]\n",
      "  [100 100 100 100 100 100]\n",
      "  [100 100 100 100 100 100]]\n",
      "\n",
      " [[100 100 100 100 100 100]\n",
      "  [100 100 100 100 100 100]\n",
      "  [100 100 100 100 100 100]\n",
      "  [100 100 100 100 100 100]\n",
      "  [100 100 100 100 100 100]]]\n",
      "Number of Dimenssions : 3\n"
     ]
    }
   ],
   "source": [
    "A = np.full((2,5,6),100)\n",
    "print(A)                                                # 3D\n",
    "print(\"Number of Dimenssions :\",A.ndim)"
   ]
  },
  {
   "cell_type": "code",
   "execution_count": null,
   "id": "731ca41f-d0a2-43e9-b2e1-ff5f743b129b",
   "metadata": {},
   "outputs": [],
   "source": []
  },
  {
   "cell_type": "code",
   "execution_count": 57,
   "id": "86449992-f513-48e2-8b92-83695b037aa5",
   "metadata": {},
   "outputs": [
    {
     "name": "stdout",
     "output_type": "stream",
     "text": [
      "[[[[9 9 9 9 9 9]\n",
      "   [9 9 9 9 9 9]\n",
      "   [9 9 9 9 9 9]\n",
      "   [9 9 9 9 9 9]\n",
      "   [9 9 9 9 9 9]]\n",
      "\n",
      "  [[9 9 9 9 9 9]\n",
      "   [9 9 9 9 9 9]\n",
      "   [9 9 9 9 9 9]\n",
      "   [9 9 9 9 9 9]\n",
      "   [9 9 9 9 9 9]]\n",
      "\n",
      "  [[9 9 9 9 9 9]\n",
      "   [9 9 9 9 9 9]\n",
      "   [9 9 9 9 9 9]\n",
      "   [9 9 9 9 9 9]\n",
      "   [9 9 9 9 9 9]]]\n",
      "\n",
      "\n",
      " [[[9 9 9 9 9 9]\n",
      "   [9 9 9 9 9 9]\n",
      "   [9 9 9 9 9 9]\n",
      "   [9 9 9 9 9 9]\n",
      "   [9 9 9 9 9 9]]\n",
      "\n",
      "  [[9 9 9 9 9 9]\n",
      "   [9 9 9 9 9 9]\n",
      "   [9 9 9 9 9 9]\n",
      "   [9 9 9 9 9 9]\n",
      "   [9 9 9 9 9 9]]\n",
      "\n",
      "  [[9 9 9 9 9 9]\n",
      "   [9 9 9 9 9 9]\n",
      "   [9 9 9 9 9 9]\n",
      "   [9 9 9 9 9 9]\n",
      "   [9 9 9 9 9 9]]]]\n",
      "Number of Dimenssions : 4\n"
     ]
    }
   ],
   "source": [
    "A = np.full((2,3,5,6),9)\n",
    "print(A)                                                # 3D\n",
    "print(\"Number of Dimenssions :\",A.ndim)"
   ]
  },
  {
   "cell_type": "code",
   "execution_count": null,
   "id": "723cbd23-953d-47b5-844a-eb1c74f2515c",
   "metadata": {},
   "outputs": [],
   "source": []
  },
  {
   "cell_type": "code",
   "execution_count": null,
   "id": "24ba73f7-9419-41cd-9a1a-073c002d8d1d",
   "metadata": {},
   "outputs": [],
   "source": []
  },
  {
   "cell_type": "code",
   "execution_count": 82,
   "id": "69b3f038-f3ba-41a1-83b6-1958972ef204",
   "metadata": {},
   "outputs": [
    {
     "name": "stdout",
     "output_type": "stream",
     "text": [
      "[[1. 0. 0. 0. 0. 0. 0. 0. 0. 0.]\n",
      " [0. 1. 0. 0. 0. 0. 0. 0. 0. 0.]\n",
      " [0. 0. 1. 0. 0. 0. 0. 0. 0. 0.]\n",
      " [0. 0. 0. 1. 0. 0. 0. 0. 0. 0.]\n",
      " [0. 0. 0. 0. 1. 0. 0. 0. 0. 0.]\n",
      " [0. 0. 0. 0. 0. 1. 0. 0. 0. 0.]\n",
      " [0. 0. 0. 0. 0. 0. 1. 0. 0. 0.]\n",
      " [0. 0. 0. 0. 0. 0. 0. 1. 0. 0.]\n",
      " [0. 0. 0. 0. 0. 0. 0. 0. 1. 0.]\n",
      " [0. 0. 0. 0. 0. 0. 0. 0. 0. 1.]]\n"
     ]
    }
   ],
   "source": [
    "# create an array using identitty matrix \n",
    "\n",
    "A = np.eye(10)\n",
    "print(A)"
   ]
  },
  {
   "cell_type": "code",
   "execution_count": null,
   "id": "53ccd591-6f94-4ddc-97c4-b4b340ddf56f",
   "metadata": {},
   "outputs": [],
   "source": []
  },
  {
   "cell_type": "code",
   "execution_count": null,
   "id": "574aff22-4860-4ce2-8e0b-eb9eeba9ee5b",
   "metadata": {},
   "outputs": [],
   "source": []
  },
  {
   "cell_type": "code",
   "execution_count": 102,
   "id": "a525f695-483c-4de4-8960-10f61c100ac9",
   "metadata": {},
   "outputs": [
    {
     "data": {
      "text/plain": [
       "array([[0.99049968, 0.2651109 , 0.69999413, 0.15926138, 0.93059644,\n",
       "        0.49399031, 0.5111504 , 0.36816452, 0.16980205, 0.24036284],\n",
       "       [0.58016051, 0.86528277, 0.45412371, 0.47148253, 0.87622652,\n",
       "        0.08809763, 0.80432773, 0.0762615 , 0.27593444, 0.79269589],\n",
       "       [0.03882797, 0.21624354, 0.92572501, 0.748146  , 0.68825   ,\n",
       "        0.95808129, 0.08129295, 0.27719011, 0.37150198, 0.94817134],\n",
       "       [0.80773237, 0.71403165, 0.29548898, 0.34865169, 0.762684  ,\n",
       "        0.49014519, 0.97057406, 0.38938536, 0.32855495, 0.51050894],\n",
       "       [0.60794583, 0.16594857, 0.05231201, 0.38220239, 0.43938204,\n",
       "        0.73312871, 0.59314447, 0.24097287, 0.0308485 , 0.39588762]])"
      ]
     },
     "execution_count": 102,
     "metadata": {},
     "output_type": "execute_result"
    }
   ],
   "source": [
    "# create an array using random values in decimal\n",
    "np.random.random((5,10))\n"
   ]
  },
  {
   "cell_type": "code",
   "execution_count": null,
   "id": "bd444990-4bd5-4316-a97b-bf0cfa1fcf7e",
   "metadata": {},
   "outputs": [],
   "source": []
  },
  {
   "cell_type": "code",
   "execution_count": null,
   "id": "ca3970e8-7db9-4e4c-b58f-8f3b95d8e8bd",
   "metadata": {},
   "outputs": [],
   "source": []
  },
  {
   "cell_type": "code",
   "execution_count": 138,
   "id": "210a187f-4742-4d6a-901c-79a8f9d46eb6",
   "metadata": {},
   "outputs": [
    {
     "data": {
      "text/plain": [
       "22"
      ]
     },
     "execution_count": 138,
     "metadata": {},
     "output_type": "execute_result"
    }
   ],
   "source": [
    "# create an array using random values  in int\n",
    "np.random.randint(6,30)"
   ]
  },
  {
   "cell_type": "code",
   "execution_count": null,
   "id": "c979b101-396c-4e56-98fc-5db6ec176304",
   "metadata": {},
   "outputs": [],
   "source": []
  },
  {
   "cell_type": "code",
   "execution_count": 150,
   "id": "a7f82845-9304-4b22-b672-5443265bdb22",
   "metadata": {},
   "outputs": [
    {
     "name": "stdout",
     "output_type": "stream",
     "text": [
      "(1, 4, 4)\n"
     ]
    }
   ],
   "source": [
    "# Find the Shape of an Array\n",
    "\n",
    "A=np.array([[[1,2,3,4],\n",
    "            [11,22,33,44],                           #3d\n",
    "            [111,222,333,444],\n",
    "             [11,22,33,44]]])\n",
    "print(A.shape)"
   ]
  },
  {
   "cell_type": "code",
   "execution_count": null,
   "id": "ac2cc26c-8a4d-4d7b-af91-2bf7f50e3ebc",
   "metadata": {},
   "outputs": [],
   "source": []
  },
  {
   "cell_type": "code",
   "execution_count": 152,
   "id": "23197fa0-c239-4d3d-9bc5-15ec539d57c4",
   "metadata": {},
   "outputs": [
    {
     "name": "stdout",
     "output_type": "stream",
     "text": [
      "(2, 4)\n"
     ]
    }
   ],
   "source": [
    "A=np.array([[1,2,3,4],\n",
    "            [11,22,33,44]])                #2d\n",
    "print(A.shape)"
   ]
  },
  {
   "cell_type": "code",
   "execution_count": null,
   "id": "3d19ea75-39c1-4b77-b8bb-b11ac512a326",
   "metadata": {},
   "outputs": [],
   "source": []
  },
  {
   "cell_type": "code",
   "execution_count": null,
   "id": "601af415-95ce-40ef-95ab-8d45b723b421",
   "metadata": {},
   "outputs": [],
   "source": []
  },
  {
   "cell_type": "code",
   "execution_count": 170,
   "id": "f7e264af-7dfe-4ef7-bb98-21e59482d8e0",
   "metadata": {},
   "outputs": [
    {
     "name": "stdout",
     "output_type": "stream",
     "text": [
      "Number of elements are  : 16\n"
     ]
    }
   ],
   "source": [
    "# Find the number of elements in a Array\n",
    "A=np.array([[[1,2,3,4],\n",
    "            [11,22,33,44],                           #3d\n",
    "            [111,222,333,444],\n",
    "             [11,22,33,44]]])             \n",
    "print(\"Number of elements are  :\",A.size)"
   ]
  },
  {
   "cell_type": "code",
   "execution_count": null,
   "id": "6c20fbc9-8375-417e-95c8-902065e30dd3",
   "metadata": {},
   "outputs": [],
   "source": []
  },
  {
   "cell_type": "code",
   "execution_count": 197,
   "id": "4a21b6b0-f146-4af7-b859-829eb4b6e9bf",
   "metadata": {},
   "outputs": [
    {
     "name": "stdout",
     "output_type": "stream",
     "text": [
      "Number of rows in array are : 7\n"
     ]
    }
   ],
   "source": [
    "# Find the length of an Array\n",
    "\n",
    "A=np.array([[9,9,9,9,9,9],\n",
    "            [9,9,9,9,9,9],\n",
    "            [9,9,9,9,9,9],\n",
    "            [9,9,9,9,9,9],\n",
    "            [9,9,9,9,9,9],\n",
    "            [9,9,9,9,9,9],\n",
    "            [9,9,9,9,9,9]])\n",
    "print(\"Number of rows in array are :\",len(A))"
   ]
  },
  {
   "cell_type": "code",
   "execution_count": null,
   "id": "dde20d10-92c0-4ef7-bdc1-28ae175f1c5a",
   "metadata": {},
   "outputs": [],
   "source": []
  },
  {
   "cell_type": "markdown",
   "id": "45cabb1c-11f3-4a56-bd12-98f983a078f1",
   "metadata": {},
   "source": [
    "## Accessing the  Array Elements"
   ]
  },
  {
   "cell_type": "code",
   "execution_count": null,
   "id": "1ca71517-0627-48bf-90a3-ab19f96a6d8b",
   "metadata": {},
   "outputs": [],
   "source": []
  },
  {
   "cell_type": "markdown",
   "id": "5295cb13-09c3-4fb0-b3bf-dc470b4306f6",
   "metadata": {},
   "source": [
    "- we can access the elements in array by using indexing method.\n",
    "- indexing starts from 0th location."
   ]
  },
  {
   "cell_type": "code",
   "execution_count": 211,
   "id": "9b24546f-2fff-4eb1-9113-aa0b321641dc",
   "metadata": {},
   "outputs": [
    {
     "name": "stdout",
     "output_type": "stream",
     "text": [
      "4\n"
     ]
    }
   ],
   "source": [
    "A = np.array([1,2,3,4,5,6])\n",
    "print(A[3])"
   ]
  },
  {
   "cell_type": "code",
   "execution_count": 213,
   "id": "241db13a-5751-43c6-91df-debf7eaed6b7",
   "metadata": {},
   "outputs": [
    {
     "name": "stdout",
     "output_type": "stream",
     "text": [
      "12\n"
     ]
    }
   ],
   "source": [
    "# Using indexing method we are using arthemati operation\n",
    "\n",
    "A = np.array([1,2,3,4,5,6])\n",
    "print(A[3] +A[2]*A[0]+A[4])\n"
   ]
  },
  {
   "cell_type": "code",
   "execution_count": null,
   "id": "2ec1ed90-af44-4192-a608-06e298d580a2",
   "metadata": {},
   "outputs": [],
   "source": []
  },
  {
   "cell_type": "code",
   "execution_count": 242,
   "id": "26955c62-65cd-4aae-b316-c656859fee33",
   "metadata": {},
   "outputs": [
    {
     "name": "stdout",
     "output_type": "stream",
     "text": [
      "6\n",
      "1\n",
      "3\n"
     ]
    }
   ],
   "source": [
    "# Accessing the Elements on the row and column\n",
    "\n",
    "A = np.array([[1,2,3,4],\n",
    "              [4,5,6,7],\n",
    "              [3,2,1,3],\n",
    "              [7,8,6,2]])\n",
    "\n",
    "print(A[3,2])\n",
    "print(A[2,2])\n",
    "print(A[0,2])"
   ]
  },
  {
   "cell_type": "code",
   "execution_count": null,
   "id": "4845d77a-09d4-43b5-bd3d-b77003641842",
   "metadata": {},
   "outputs": [],
   "source": []
  },
  {
   "cell_type": "markdown",
   "id": "9e4b62f4-5b1d-4703-9d0d-e2e46652e16f",
   "metadata": {},
   "source": [
    "## \" DATA TYPES \"  in Numpy."
   ]
  },
  {
   "cell_type": "code",
   "execution_count": null,
   "id": "bde14952-019a-49a8-96aa-71dfa7f715d2",
   "metadata": {},
   "outputs": [],
   "source": []
  },
  {
   "cell_type": "markdown",
   "id": "234cac62-027a-4f65-a680-44a5fe09a625",
   "metadata": {},
   "source": [
    "- NumPy has some extra data types.\n",
    "- NumPy has some extra data types, and refer to data types with one character, like i for integers.\n",
    "\n",
    "\n",
    "  1) integers--i\n",
    "  2) boolean--b\n",
    "  3) float--f\n",
    "  4) complex float--c\n",
    "  5) datatime--M\n",
    "  6) object--O\n",
    "  7) string--S\n",
    "  \n",
    "\n"
   ]
  },
  {
   "cell_type": "code",
   "execution_count": 18,
   "id": "f41ccfa7-038d-491a-985d-eac52b40ee8e",
   "metadata": {},
   "outputs": [],
   "source": [
    "import numpy as np"
   ]
  },
  {
   "cell_type": "code",
   "execution_count": 20,
   "id": "ad08896a-c42f-4ffa-bbb1-3467519438ad",
   "metadata": {},
   "outputs": [
    {
     "name": "stdout",
     "output_type": "stream",
     "text": [
      "[b'1' b'2' b'3' b'4']\n",
      "|S1\n"
     ]
    }
   ],
   "source": [
    "# for string\n",
    "A = np.array([1,2,3,4], dtype = 'S')\n",
    "print(A)\n",
    "print(A.dtype)"
   ]
  },
  {
   "cell_type": "code",
   "execution_count": 22,
   "id": "f619f414-230b-45f4-9d3b-1782c5c3654c",
   "metadata": {},
   "outputs": [
    {
     "name": "stdout",
     "output_type": "stream",
     "text": [
      "[1. 2. 3. 4.]\n",
      "float32\n"
     ]
    }
   ],
   "source": [
    "# for float\n",
    "A = np.array([1,2,3,4], dtype = 'f')\n",
    "print(A)\n",
    "print(A.dtype)"
   ]
  },
  {
   "cell_type": "code",
   "execution_count": null,
   "id": "0e6c180f-96cc-4fff-8cca-f92163bf3e43",
   "metadata": {},
   "outputs": [],
   "source": []
  },
  {
   "cell_type": "code",
   "execution_count": 28,
   "id": "d3148e36-bb61-4fa3-9a3d-31e2540bfa2a",
   "metadata": {},
   "outputs": [
    {
     "name": "stdout",
     "output_type": "stream",
     "text": [
      "[1 2 3 4]\n",
      "int32\n"
     ]
    }
   ],
   "source": [
    "# for integer\n",
    "A = np.array([1,2,3,4], dtype = 'i')\n",
    "print(A)\n",
    "print(A.dtype)"
   ]
  },
  {
   "cell_type": "code",
   "execution_count": null,
   "id": "6289608f-01e8-41cc-9cda-e24bba21b41e",
   "metadata": {},
   "outputs": [],
   "source": []
  },
  {
   "cell_type": "code",
   "execution_count": 40,
   "id": "a16934b3-6ac0-4e1a-89fd-84fe641b92bd",
   "metadata": {},
   "outputs": [
    {
     "name": "stdout",
     "output_type": "stream",
     "text": [
      "[1 1 1 1 1]\n"
     ]
    }
   ],
   "source": [
    "# change data type from float to integer by using 'i' as a parameter value \n",
    "\n",
    "a = np.array([ 1.1, 1.2, 1.3, 1.4, 1.5])\n",
    "\n",
    "b = a.astype('i')\n",
    "print(b)"
   ]
  },
  {
   "cell_type": "code",
   "execution_count": null,
   "id": "9cf19f3a-a283-40a0-ad9e-816e1b0b7677",
   "metadata": {},
   "outputs": [],
   "source": []
  },
  {
   "cell_type": "code",
   "execution_count": 49,
   "id": "4f636b60-266b-4811-82c4-9b78a30d393b",
   "metadata": {},
   "outputs": [
    {
     "name": "stdout",
     "output_type": "stream",
     "text": [
      "[ True  True  True False  True  True  True]\n",
      "bool\n"
     ]
    }
   ],
   "source": [
    "# create data type from integers to boolean.\n",
    "a = np.array([1,2,3,0,5,-6,-7])\n",
    "x = a.astype(bool)\n",
    "print(x)\n",
    "print(x.dtype)"
   ]
  },
  {
   "cell_type": "code",
   "execution_count": null,
   "id": "1c3a1204-b16d-4feb-ae38-47fba4f3fe4a",
   "metadata": {},
   "outputs": [],
   "source": []
  },
  {
   "cell_type": "code",
   "execution_count": 59,
   "id": "bacc31ce-f711-4d93-8fb2-50147488f2bd",
   "metadata": {},
   "outputs": [
    {
     "name": "stdout",
     "output_type": "stream",
     "text": [
      "Actual one : [ 1  2  3  0  5 -6 -7]\n",
      "After changing value : [  1   2   3 108   5  -6  -7]\n"
     ]
    }
   ],
   "source": [
    "# copy Method.\n",
    "a = np.array([1,2,3,0,5,-6,-7])\n",
    "x = a.copy()\n",
    "a[3] = 108\n",
    "print(\"Actual one :\",x)\n",
    "print(\"After changing value :\",a)"
   ]
  },
  {
   "cell_type": "code",
   "execution_count": null,
   "id": "7e5b9573-e648-4f8a-b103-d68756700965",
   "metadata": {},
   "outputs": [],
   "source": []
  },
  {
   "cell_type": "code",
   "execution_count": 61,
   "id": "04a7af3c-f990-4c42-bb97-00e5fd48b13a",
   "metadata": {},
   "outputs": [
    {
     "name": "stdout",
     "output_type": "stream",
     "text": [
      "[  1   2   3 108  -7]\n",
      "[  1   2   3 108  -7]\n"
     ]
    }
   ],
   "source": [
    "# view Method.\n",
    "a = np.array([1,2,3,5,-7])\n",
    "x = a.view()\n",
    "a[3] = 108\n",
    "print(x)\n",
    "print(a)"
   ]
  },
  {
   "cell_type": "code",
   "execution_count": null,
   "id": "8bc737c3-eabe-4839-a5af-4d64dc4bb7c0",
   "metadata": {},
   "outputs": [],
   "source": []
  },
  {
   "cell_type": "code",
   "execution_count": 76,
   "id": "1e076809-22f8-4b1b-ae06-da1c0072671d",
   "metadata": {},
   "outputs": [
    {
     "name": "stdout",
     "output_type": "stream",
     "text": [
      "(2, 4)\n"
     ]
    }
   ],
   "source": [
    "# to know the Shape \n",
    "S = np.array([[1,2,3,4],\n",
    "              [5,6,7,8]])\n",
    "\n",
    "print(S.shape)"
   ]
  },
  {
   "cell_type": "code",
   "execution_count": null,
   "id": "db453b4c-ad26-47b5-a293-d7d0316bc91a",
   "metadata": {},
   "outputs": [],
   "source": []
  },
  {
   "cell_type": "code",
   "execution_count": null,
   "id": "0ae7ea5d-3543-440e-a64a-9af54a4cf125",
   "metadata": {},
   "outputs": [],
   "source": []
  },
  {
   "cell_type": "markdown",
   "id": "0a8a1534-bc59-4cd5-acb2-810853cf311c",
   "metadata": {},
   "source": [
    "## Reshaping arrays."
   ]
  },
  {
   "cell_type": "code",
   "execution_count": null,
   "id": "2985a794-6b00-4045-befc-81f0d0777268",
   "metadata": {},
   "outputs": [],
   "source": []
  },
  {
   "cell_type": "markdown",
   "id": "fe33c3e7-0e28-41ba-bddc-d5a713d0acb1",
   "metadata": {},
   "source": [
    "- Reshaping means changing the shape of an arrey.\n",
    "- The shape of an array is the number of elements in each dimensions.\n",
    "- By reshaping we can add or remove dimenssions or change number of elements in each dimansion"
   ]
  },
  {
   "cell_type": "code",
   "execution_count": 89,
   "id": "dbd3bf4e-48d1-4243-93a9-e4281272ecc8",
   "metadata": {},
   "outputs": [
    {
     "name": "stdout",
     "output_type": "stream",
     "text": [
      "9\n",
      "***********************************************\n",
      "[[1 2 3 4 5 6 7 8 9]]\n"
     ]
    }
   ],
   "source": [
    "# Convert the following 1-D array with 9 Elements into a 2-D array.\n",
    "\n",
    "a = np.array([1,2,3,4,5,6,7,8,9])\n",
    "print(a.size)\n",
    "print(\"***********************************************\")\n",
    "s = a.reshape(1,9)\n",
    "print(s)"
   ]
  },
  {
   "cell_type": "code",
   "execution_count": null,
   "id": "da7ec54f-141a-4203-bd41-b03a28aa50bc",
   "metadata": {},
   "outputs": [],
   "source": []
  },
  {
   "cell_type": "code",
   "execution_count": 110,
   "id": "60f91553-3479-45f0-9855-65af4efa5827",
   "metadata": {},
   "outputs": [
    {
     "name": "stdout",
     "output_type": "stream",
     "text": [
      "12\n",
      "***********************************************\n"
     ]
    },
    {
     "ename": "ValueError",
     "evalue": "cannot reshape array of size 12 into shape (2,1,5)",
     "output_type": "error",
     "traceback": [
      "\u001b[1;31m---------------------------------------------------------------------------\u001b[0m",
      "\u001b[1;31mValueError\u001b[0m                                Traceback (most recent call last)",
      "Cell \u001b[1;32mIn[110], line 6\u001b[0m\n\u001b[0;32m      4\u001b[0m \u001b[38;5;28mprint\u001b[39m(a\u001b[38;5;241m.\u001b[39msize)\n\u001b[0;32m      5\u001b[0m \u001b[38;5;28mprint\u001b[39m(\u001b[38;5;124m\"\u001b[39m\u001b[38;5;124m***********************************************\u001b[39m\u001b[38;5;124m\"\u001b[39m)\n\u001b[1;32m----> 6\u001b[0m s \u001b[38;5;241m=\u001b[39m a\u001b[38;5;241m.\u001b[39mreshape(\u001b[38;5;241m2\u001b[39m,\u001b[38;5;241m1\u001b[39m,\u001b[38;5;241m5\u001b[39m)\n\u001b[0;32m      7\u001b[0m \u001b[38;5;28mprint\u001b[39m(s)\n",
      "\u001b[1;31mValueError\u001b[0m: cannot reshape array of size 12 into shape (2,1,5)"
     ]
    }
   ],
   "source": [
    "# Convert the following 1-D array with 12 Elements into a 3-D array.\n",
    "\n",
    "a = np.array([1,2,3,4,5,6,7,8,9,10,11,12])\n",
    "\n",
    "s = a.reshape(2,1,5)\n",
    "print(s)"
   ]
  },
  {
   "cell_type": "code",
   "execution_count": null,
   "id": "c9d6600d-cd10-4b1a-b8ea-738a12ddc665",
   "metadata": {},
   "outputs": [],
   "source": []
  },
  {
   "cell_type": "code",
   "execution_count": null,
   "id": "f5e3c9b7-f656-46a8-a07c-bedb7ac10ec6",
   "metadata": {},
   "outputs": [],
   "source": []
  },
  {
   "cell_type": "code",
   "execution_count": null,
   "id": "60218f15-ef93-4138-9697-95d4a40ce3ec",
   "metadata": {},
   "outputs": [],
   "source": []
  },
  {
   "cell_type": "code",
   "execution_count": null,
   "id": "06e64adc-f55d-47db-ae80-e0ad9f621249",
   "metadata": {},
   "outputs": [],
   "source": []
  },
  {
   "cell_type": "code",
   "execution_count": null,
   "id": "0ef0d1d9-bdc1-4657-9dfa-fce6c21ac847",
   "metadata": {},
   "outputs": [],
   "source": []
  }
 ],
 "metadata": {
  "kernelspec": {
   "display_name": "Python 3 (ipykernel)",
   "language": "python",
   "name": "python3"
  },
  "language_info": {
   "codemirror_mode": {
    "name": "ipython",
    "version": 3
   },
   "file_extension": ".py",
   "mimetype": "text/x-python",
   "name": "python",
   "nbconvert_exporter": "python",
   "pygments_lexer": "ipython3",
   "version": "3.12.4"
  }
 },
 "nbformat": 4,
 "nbformat_minor": 5
}
